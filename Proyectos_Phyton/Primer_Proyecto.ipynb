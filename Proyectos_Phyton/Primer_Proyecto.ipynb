{
 "cells": [
  {
   "cell_type": "markdown",
   "metadata": {},
   "source": [
    "# Inciso 1\n",
    "\n",
    "### Cree funciones para los objetos fundamentales $x(t)$, $y(t)$, $\\vec{r}(t)$"
   ]
  },
  {
   "cell_type": "markdown",
   "metadata": {},
   "source": [
    "Función para el movimiento vertical."
   ]
  },
  {
   "cell_type": "code",
   "execution_count": null,
   "metadata": {},
   "outputs": [],
   "source": [
    "#Se necesita la ecuación que describe al movimiento horizontal el cual se define como x(t)=x0+v0x*t\n",
    "def mov_horizontal():\n",
    "    resultado = x0 + v0x *(t)\n",
    "    return(resultado)\n",
    "x0 = float(input(\"Introduzca el valor de posicion inicial: \"))\n",
    "v0x = float(input(\"Introduzca el valor de la velocidad inicial: \"))\n",
    "t = float(input(\"Introduzca el valor del tiempo:\"))\n",
    "mov_horizontal()"
   ]
  },
  {
   "cell_type": "markdown",
   "metadata": {},
   "source": [
    "Función para el movimiento horizontal x(t)."
   ]
  },
  {
   "cell_type": "code",
   "execution_count": null,
   "metadata": {},
   "outputs": [],
   "source": [
    "#Ecuación que describe al movimiento vertical: y(t)=yo+v0yt+at**2/2\n",
    "def mov_vertical():\n",
    "    result = y0 + v0*(t) + a*t**2/2\n",
    "    return(result)\n",
    "y0 = float(input(\"Introduzca el valor de posicion inicial\"))\n",
    "v0 = float(input(\"Introduzca el valor de la velocidad inicial\"))\n",
    "t = float(input(\"Introduzca el valor del tiempo\"))\n",
    "aceleracion = -9.8\n",
    "mov_vertical()"
   ]
  }
 ],
 "metadata": {
  "kernelspec": {
   "display_name": "Python 3",
   "language": "python",
   "name": "python3"
  },
  "language_info": {
   "codemirror_mode": {
    "name": "ipython",
    "version": 3
   },
   "file_extension": ".py",
   "mimetype": "text/x-python",
   "name": "python",
   "nbconvert_exporter": "python",
   "pygments_lexer": "ipython3",
   "version": "3.8.3"
  }
 },
 "nbformat": 4,
 "nbformat_minor": 4
}
