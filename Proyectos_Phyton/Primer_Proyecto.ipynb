{
 "cells": [
  {
   "cell_type": "markdown",
   "metadata": {},
   "source": [
    "# Inciso 1\n",
    "\n",
    "### Cree funciones para los objetos fundamentales $x(t)$, $y(t)$, $\\vec{r}(t)$"
   ]
  },
  {
   "cell_type": "markdown",
   "metadata": {},
   "source": [
    "Función para el movimiento vertical x(t)."
   ]
  },
  {
   "cell_type": "code",
   "execution_count": 26,
   "metadata": {},
   "outputs": [
    {
     "name": "stdout",
     "output_type": "stream",
     "text": [
      "Introduzca el valor de posición inicial: 1\n",
      "Introduzca el valor de la velocidad inicial: 2\n",
      "Introduzca el valor del tiempo:3\n"
     ]
    },
    {
     "data": {
      "text/plain": [
       "7.0"
      ]
     },
     "execution_count": 26,
     "metadata": {},
     "output_type": "execute_result"
    }
   ],
   "source": [
    "#Se necesita la ecuación que describe al movimiento horizontal el cual se define como x(t)=x0+v0x*t\n",
    "def mov_horizontal():\n",
    "    resultado = x0 + v0x *(t)\n",
    "    return(resultado)\n",
    "x0 = float(input(\"Introduzca el valor de posición inicial: \"))\n",
    "v0x = float(input(\"Introduzca el valor de la velocidad inicial: \"))\n",
    "t = float(input(\"Introduzca el valor del tiempo: \"))\n",
    "mov_horizontal()"
   ]
  },
  {
   "cell_type": "markdown",
   "metadata": {},
   "source": [
    "Función para el movimiento horizontal y(t)."
   ]
  },
  {
   "cell_type": "code",
   "execution_count": 29,
   "metadata": {},
   "outputs": [
    {
     "name": "stdout",
     "output_type": "stream",
     "text": [
      "Introduzca el valor de posición inicial: 1\n",
      "Introduzca el valor de la velocidad inicial: 2\n",
      "Introduzca el valor del tiempo: 3\n"
     ]
    },
    {
     "data": {
      "text/plain": [
       "-37.1"
      ]
     },
     "execution_count": 29,
     "metadata": {},
     "output_type": "execute_result"
    }
   ],
   "source": [
    "#Ecuación que describe al movimiento vertical: y(t)=yo+v0yt+at**2/2\n",
    "def mov_vertical():\n",
    "    resultado = y0 + v0*(t) + a*t**2/2\n",
    "    return(resultado)\n",
    "y0 = float(input(\"Introduzca el valor de posición inicial: \"))\n",
    "v0 = float(input(\"Introduzca el valor de la velocidad inicial: \"))\n",
    "t = float(input(\"Introduzca el valor del tiempo: \"))\n",
    "a = -9.8\n",
    "mov_vertical()"
   ]
  },
  {
   "cell_type": "code",
   "execution_count": null,
   "metadata": {},
   "outputs": [],
   "source": []
  }
 ],
 "metadata": {
  "kernelspec": {
   "display_name": "Python 3",
   "language": "python",
   "name": "python3"
  },
  "language_info": {
   "codemirror_mode": {
    "name": "ipython",
    "version": 3
   },
   "file_extension": ".py",
   "mimetype": "text/x-python",
   "name": "python",
   "nbconvert_exporter": "python",
   "pygments_lexer": "ipython3",
   "version": "3.8.3"
  }
 },
 "nbformat": 4,
 "nbformat_minor": 4
}
