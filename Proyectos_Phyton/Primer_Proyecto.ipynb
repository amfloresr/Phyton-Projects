{
 "cells": [
  {
   "cell_type": "markdown",
   "metadata": {},
   "source": [
    "# Inciso I"
   ]
  },
  {
   "cell_type": "markdown",
   "metadata": {},
   "source": [
    "### Cree funciones para todos los objetos fundamentales: $x(t)$, $y(t)$, $\\vec{r}(t)$"
   ]
  },
  {
   "cell_type": "markdown",
   "metadata": {},
   "source": [
    "Función para el movimiento horizontal x(t)."
   ]
  },
  {
   "cell_type": "code",
   "execution_count": 102,
   "metadata": {},
   "outputs": [
    {
     "name": "stdout",
     "output_type": "stream",
     "text": [
      "Introduzca el valor de la posición inicial: 0\n",
      "Introduzca el valor de la velocidad inicial: 1\n",
      "Introduzca el valor del tiempo: 3\n"
     ]
    },
    {
     "data": {
      "text/plain": [
       "3.0"
      ]
     },
     "execution_count": 102,
     "metadata": {},
     "output_type": "execute_result"
    }
   ],
   "source": [
    "#Se necesita la ecuación que describe al movimiento horizontal el cual se define como x(t)=x0+v0x*t\n",
    "def mov_horizontal():\n",
    "    resultadox = x0 + v0x *(t)\n",
    "    return(resultadox)\n",
    "x0 = float(input(\"Introduzca el valor de la posición inicial: \"))\n",
    "v0x = float(input(\"Introduzca el valor de la velocidad inicial: \"))\n",
    "t = float(input(\"Introduzca el valor del tiempo: \"))\n",
    "mov_horizontal()"
   ]
  },
  {
   "cell_type": "markdown",
   "metadata": {},
   "source": [
    "Función para el movimiento vertical y(t)."
   ]
  },
  {
   "cell_type": "code",
   "execution_count": 103,
   "metadata": {},
   "outputs": [
    {
     "name": "stdout",
     "output_type": "stream",
     "text": [
      "Introduzca el valor de la posición inicial: 0\n",
      "Introduzca el valor de la velocidad inicial: 0\n",
      "Introduzca el valor del tiempo: 1\n"
     ]
    },
    {
     "data": {
      "text/plain": [
       "-4.9"
      ]
     },
     "execution_count": 103,
     "metadata": {},
     "output_type": "execute_result"
    }
   ],
   "source": [
    "#Ecuación que describe al movimiento vertical: y(t)=yo+v0yt+at**2/2\n",
    "def mov_vertical():\n",
    "    resultado = y0 + v0*(t) + a*t**2/2\n",
    "    return(resultado)\n",
    "y0 = float(input(\"Introduzca el valor de la posición inicial: \"))\n",
    "v0 = float(input(\"Introduzca el valor de la velocidad inicial: \"))\n",
    "t = float(input(\"Introduzca el valor del tiempo: \"))\n",
    "a = -9.8\n",
    "mov_vertical()"
   ]
  },
  {
   "cell_type": "markdown",
   "metadata": {},
   "source": [
    "Función para el vector $\\vec{r}(t)$"
   ]
  },
  {
   "cell_type": "code",
   "execution_count": 104,
   "metadata": {},
   "outputs": [
    {
     "data": {
      "text/plain": [
       "(1.0, -4.9)"
      ]
     },
     "execution_count": 104,
     "metadata": {},
     "output_type": "execute_result"
    }
   ],
   "source": [
    "#Se necesita definir el vector, por lo que se utilizará una tupla.\n",
    "def vec_r():\n",
    "   return (float(mov_horizontal()),float(mov_vertical()))\n",
    "r=vec_r()\n",
    "r"
   ]
  },
  {
   "cell_type": "code",
   "execution_count": 106,
   "metadata": {},
   "outputs": [
    {
     "data": {
      "image/png": "[encoded data removed]",
      "text/plain": [
       "<Figure size 432x288 with 1 Axes>"
      ]
     },
     "metadata": {
      "needs_background": "light"
     },
     "output_type": "display_data"
    }
   ],
   "source": [
    "import matplotlib.pyplot as plt\n",
    "import numpy as np\n",
    "\n",
    "origenx = np.array((0))\n",
    "origeny= np.array((0))\n",
    "x = np.array((r[0]))\n",
    "y = np.array((r[1]))\n",
    "\n",
    "fig, ax = plt.subplots()\n",
    "q = ax.quiver(origenx, origeny, x, y,units='xy' ,scale=1)\n",
    "\n",
    "plt.grid()\n",
    "\n",
    "ax.set_aspect('equal')\n",
    "\n",
    "plt.xlim(-5,5)\n",
    "plt.ylim(-5,5)\n",
    "plt.xlabel('Coordenada X')\n",
    "plt.ylabel('Coordenada Y')\n",
    "plt.title('Vector R',fontsize=12)\n",
    "plt.show()"
   ]
  },
  {
   "cell_type": "markdown",
   "metadata": {},
   "source": [
    "# Inciso II "
   ]
  },
  {
   "cell_type": "markdown",
   "metadata": {},
   "source": [
    "### A continuación cada uno de los integrantes del grupo #4 creará una función que responda cada una de las siguientes preguntas:"
   ]
  },
  {
   "cell_type": "markdown",
   "metadata": {},
   "source": [
    "#####  Elaborado por Alejandra María Flores Rodríguez."
   ]
  },
  {
   "cell_type": "markdown",
   "metadata": {},
   "source": [
    "1- ¿En qué tiempo $t$ una pelota (definida por su estado inicial $(r_0, v_0)$) cae al suelo? ¿Qué tal si lo que queremos es que caiga sobre una repisa de altura $h$?"
   ]
  },
  {
   "cell_type": "code",
   "execution_count": 108,
   "metadata": {},
   "outputs": [],
   "source": [
    "#selecciona el tiempo correcto al resolver la ecuación cuadrática\n",
    "def seleccion(tiempo1, tiempo2): \n",
    "    if (tiempo1>0 and tiempo2>0) and (tiempo1<tiempo2):\n",
    "        return(tiempo1)\n",
    "    elif(tiempo1>0 and tiempo2>0) and (tiempo1>tiempo2):\n",
    "        return(tiempo2)\n",
    "    elif(tiempo1<0 and tiempo2>0):\n",
    "         return(tiempo2)\n",
    "    elif(tiempo1>0 and tiempo2<0):\n",
    "        return(tiempo1)\n",
    "    elif(tiempo1<0 and tiempo2<0):\n",
    "        return(\"No existe tiempo positivo\")"
   ]
  },
  {
   "cell_type": "code",
   "execution_count": 109,
   "metadata": {},
   "outputs": [],
   "source": [
    "#calcula el tiempo de subida en caso que la velocidad inicial sea positiva\n",
    "def subida(v0y,a):\n",
    "    tiempo_subida=-2*v0y/a\n",
    "    return(tiempo_subida)"
   ]
  },
  {
   "cell_type": "code",
   "execution_count": 110,
   "metadata": {},
   "outputs": [],
   "source": [
    "#Calcula el tiempo de bajada independientemente si baja inicialmente o si inicialmente sube y luego baja\n",
    "def bajada(v0y,y0,a,h=0):\n",
    "    discriminante=v0y**2-4*(a/2)*(y0-h)\n",
    "    if discriminante<0:\n",
    "        return(\"no existe un tiempo real en el cual la pelota llegue al suelo\")\n",
    "    elif discriminante==0:\n",
    "        tiempo=(-v0y+math.sqrt(v0y**2-4*(a/2)*(y0-h)))/(2*(-a/2))\n",
    "        return(tiempo)\n",
    "    else:\n",
    "        tiempo1=(-v0y+math.sqrt(v0y**2-4*(a/2)*(y0-h)))/(2*(-a/2))\n",
    "        tiempo2=(-v0y-math.sqrt(v0y**2-4*(a/2)*(y0-h)))/(2*(-a/2))\n",
    "        tiempo_seleccionado=seleccion(tiempo1, tiempo2)\n",
    "        return(tiempo_seleccionado)"
   ]
  },
  {
   "cell_type": "code",
   "execution_count": 111,
   "metadata": {},
   "outputs": [],
   "source": [
    "#calcula el tiempo de caída hasta el suelo independientemente si sube primero o baja directamente\n",
    "import math\n",
    "def suelo():\n",
    "    a=-9.8\n",
    "    y0 = float(input(\"Introduzca el valor de la posición inicial en Y: \"))\n",
    "    x0 = float(input(\"Introduzca el valor de la posición inicial en X: \"))\n",
    "    v0x = float(input(\"Introduzca el valor de la velocidad inicial en X: \"))\n",
    "    v0y = float(input(\"Introduzca el valor de la velocidad inicial en y: \"))\n",
    "    r0=(x0,y0)\n",
    "    v0=(v0x,v0y)   \n",
    "   \n",
    "    if v0y<=0:\n",
    "        tiempo_bajada=bajada(-v0y,y0,a)\n",
    "        print(f'El tiempo en el que llega al suelo es {tiempo_bajada}')\n",
    "    else: \n",
    "        tiempo_subida=subida(v0y,a)\n",
    "        v0y=-v0y\n",
    "        tiempo_bajada=bajada(-v0y,y0,a)\n",
    "        if type(tiempo_bajada)==str:\n",
    "            print(\"No existe un tiempo de caída para estas condiciones iniciales\")\n",
    "        else:\n",
    "            tiempo_total=tiempo_subida+tiempo_bajada\n",
    "            print(f'El tiempo en el que llega al suelo es {tiempo_total}')"
   ]
  },
  {
   "cell_type": "code",
   "execution_count": 113,
   "metadata": {},
   "outputs": [],
   "source": [
    "#calcula el tiempo de caída hasta una repisa de altura h independientemente si sube primero o baja directamente\n",
    "def repisa():\n",
    "    a=-9.8\n",
    "    y0 = float(input(\"Introduzca el valor de la posición inicial en Y: \"))\n",
    "    x0 = float(input(\"Introduzca el valor de la posición inicial en X: \"))\n",
    "    v0x = float(input(\"Introduzca el valor de la velocidad inicial en X: \"))\n",
    "    v0y = float(input(\"Introduzca el valor de la velocidad inicial en y: \"))\n",
    "    h=float(input(\"Introduzca el valor de la altura de la repisa: \"))\n",
    "    r0=(x0,y0)\n",
    "    v0=(v0x,v0y)   \n",
    "\n",
    "    if v0y<=0:\n",
    "        tiempo_bajada=bajada(-v0y,y0,a,h)\n",
    "        print(f'El tiempo en el que llega a la repisa es {tiempo_bajada}')\n",
    "    else:\n",
    "        tiempo_subida=subida(v0y,a)\n",
    "        v0y=-v0y\n",
    "        tiempo_bajada=bajada(-v0y,y0,a,h)\n",
    "        if type(tiempo_bajada)==str:\n",
    "            print(\"No existe un tiempo de caída para estas condiciones iniciales\")\n",
    "        else:\n",
    "            tiempo_total=tiempo_subida+tiempo_bajada\n",
    "            print(f'El tiempo en el que llega a la respisa es {tiempo_total}')"
   ]
  },
  {
   "cell_type": "markdown",
   "metadata": {},
   "source": [
    "### Probando funciones"
   ]
  },
  {
   "cell_type": "code",
   "execution_count": 114,
   "metadata": {},
   "outputs": [
    {
     "name": "stdout",
     "output_type": "stream",
     "text": [
      "Introduzca el valor de la posición inicial en Y: 5\n",
      "Introduzca el valor de la posición inicial en X: 0\n",
      "Introduzca el valor de la velocidad inicial en X: 0\n",
      "Introduzca el valor de la velocidad inicial en y: 5\n",
      "El tiempo en el que llega al suelo es 1.6418914802458588\n"
     ]
    }
   ],
   "source": [
    "suelo() #calculo de tiempo hasta el suelo con movimiento inicialmente hacia arriba"
   ]
  },
  {
   "cell_type": "code",
   "execution_count": 115,
   "metadata": {},
   "outputs": [
    {
     "name": "stdout",
     "output_type": "stream",
     "text": [
      "Introduzca el valor de la posición inicial en Y: 5\n",
      "Introduzca el valor de la posición inicial en X: 0\n",
      "Introduzca el valor de la velocidad inicial en X: 0\n",
      "Introduzca el valor de la velocidad inicial en y: 5\n",
      "El tiempo en el que llega al suelo es 1.6418914802458588\n"
     ]
    }
   ],
   "source": [
    "suelo()#calculo de tiempo hasta el suelo con movimiento directamente hacia abajo"
   ]
  },
  {
   "cell_type": "code",
   "execution_count": 116,
   "metadata": {},
   "outputs": [
    {
     "name": "stdout",
     "output_type": "stream",
     "text": [
      "Introduzca el valor de la posición inicial en Y: 5\n",
      "Introduzca el valor de la posición inicial en X: 0\n",
      "Introduzca el valor de la velocidad inicial en X: 0\n",
      "Introduzca el valor de la velocidad inicial en y: 5\n",
      "Introduzca el valor de la altura de la repisa: 3\n",
      "El tiempo en el que llega a la respisa es 1.3278051275106177\n"
     ]
    }
   ],
   "source": [
    "repisa() #calculo de tiempo hasta una repisa con movimiento inicialmente hacia arriba"
   ]
  },
  {
   "cell_type": "code",
   "execution_count": 117,
   "metadata": {},
   "outputs": [
    {
     "name": "stdout",
     "output_type": "stream",
     "text": [
      "Introduzca el valor de la posición inicial en Y: 5\n",
      "Introduzca el valor de la posición inicial en X: 0\n",
      "Introduzca el valor de la velocidad inicial en X: 0\n",
      "Introduzca el valor de la velocidad inicial en y: -5\n",
      "Introduzca el valor de la altura de la repisa: 3\n",
      "El tiempo en el que llega a la repisa es 0.3073969642453115\n"
     ]
    }
   ],
   "source": [
    "repisa() #calculo de tiempo hasta una repisa con movimiento directamente hacia abajo"
   ]
  },
  {
   "cell_type": "markdown",
   "metadata": {},
   "source": [
    "#### Elaborado por Ángel David Girón Aguilera."
   ]
  },
  {
   "cell_type": "markdown",
   "metadata": {},
   "source": [
    "3- ¿Cuál es la altura máxima que alcanza la Piedra? ¿En qué tiempo la alcanzó?\n",
    "\n",
    "PROBLEMA:\n",
    "Un niño de 7 años quiere matar un ave con su resortera. Para ello el niño dispara una piedra  con un angulo **Theta** y con una **velocidad incial** describiendo un movimiento parabólico. Suponiendo que se logró el objetivo, determinar:\n",
    "* La altura máxima que alcanzó la piedra en su trayectoria.\n",
    "* EL tiempo en Ymax. \n",
    "\n",
    "Sabiendo que se pueden alterar los parámetros de entrada para futuros cálculos, desarrolle su programa.\n",
    "\n",
    "DESARROLLO:\n",
    "\n",
    "$$\n",
    "y(t) = y_0 + v_0sen(θ)t + \\frac{at²}{2}                           \n",
    "$$\n",
    "\n",
    "$$\n",
    "v_y(t) = v_0sen(θ)+at                                             \n",
    "$$\n",
    "\n",
    "En Ymax, Vy = 0. y a = -9.8.\n",
    "se despeja para el tiempo de la segunda ecuación:\n",
    "\n",
    "$$\n",
    "t = \\frac{v_0sen(θ)}{g}\n",
    "$$\n",
    "\n",
    "y se sustituye a la otra ecuación, queda:\n",
    "\n",
    "$$\n",
    "y_(max) = \\frac{v_0²sen²(θ)}{2g}\n",
    "$$"
   ]
  },
  {
   "cell_type": "code",
   "execution_count": 6,
   "metadata": {},
   "outputs": [
    {
     "name": "stdout",
     "output_type": "stream",
     "text": [
      "Theta: Ingrese un número (ángulo en grados): 30\n",
      "Velocidad inicial: Ingrese un número: 2\n",
      "La altura maxima es:\n",
      "0.05102040816326529\n",
      "El tiempo en Ymax es:\n",
      "0.10204081632653059\n"
     ]
    }
   ],
   "source": [
    "#Encontrando Ymax\n",
    "import math\n",
    "theta = float(input(\"Theta: Ingrese un número (ángulo en grados): \"))\n",
    "theta_rad = math.radians(theta)\n",
    "sintheta =  math.sin(theta_rad)\n",
    "\n",
    "vel_inicial = float(input(\"Velocidad inicial: Ingrese un número: \"))\n",
    "g = float(9.8)\n",
    "\n",
    "def Ymax():\n",
    "    result = vel_inicial**2*sintheta**2/(2*g)\n",
    "    return(result)\n",
    "\n",
    "print(\"La altura maxima es:\")\n",
    "print(Ymax())\n",
    "\n",
    "#Encontrando el tiempo en Ymax\n",
    "def t():\n",
    "    tiempo = vel_inicial*sintheta/g\n",
    "    return(tiempo)\n",
    "\n",
    "print(\"El tiempo en Ymax es:\")\n",
    "print(t())"
   ]
  },
  {
   "cell_type": "markdown",
   "metadata": {},
   "source": [
    "#### Elaborado por Manuel Alejandro Sevilla Ordóñez"
   ]
  },
  {
   "cell_type": "markdown",
   "metadata": {},
   "source": [
    "4- ¿A qué ángulo $\\theta$ debemos colocar el cañón (situado en el origen $(0,0)$) para que la bala destruya el castillo enemigo en un punto $(p_x, p_y)$ y dimensiones $h \\times w$?"
   ]
  },
  {
   "cell_type": "code",
   "execution_count": 22,
   "metadata": {},
   "outputs": [],
   "source": [
    "import math\n",
    "def theta():    \n",
    "    print(\"====CÁLCULO DEL ÁNGULO PARA PODER IMPACTAR EL CASTILLO ENEMIGO====\")\n",
    "    print(\" \")\n",
    "\n",
    "    #posiciones px y py\n",
    "\n",
    "    try:      \n",
    "        PosicionX = float( input(\"Ingrese el valor en metros de la posicion Px del castillo: \"))\n",
    "        PosicionX = float(PosicionX)\n",
    "        print(\" \")\n",
    "    except ValueError:\n",
    "        print(\"\\nERROR: Debe ingresar un valor numérico.\\n\")\n",
    "        print(\"Intente de nuevo.\")\n",
    "        theta()\n",
    "        return(None)\n",
    "\n",
    "    try:      \n",
    "        PosicionY = float(input(\"Ingrese el valor en metros de la posicion Py el castillo: \"))\n",
    "        PosicionY = float(PosicionY)\n",
    "        print(\" \")\n",
    "    except ValueError:\n",
    "        print(\"\\nERROR: Debe ingresar un valor numérico.\\n\")\n",
    "        print(\"Intente de nuevo.\")\n",
    "        theta()\n",
    "        return(None)\n",
    "    \n",
    "    #theta=1/2 arcSin((rango*g)/Vo^2)\n",
    "    \n",
    "    #Siempre sera el punto en x donde esta ubicado el castillo.\n",
    "    #A este valor le vamos a dar un aumento de 100 metros para considerar un impacto más alto.\n",
    "    rango = PosicionX+100\n",
    "    \n",
    "    #investigando sobre las velocidades de las balas de cañon, vamos a considerar que las velocidades iniciales son de 300 m/s.\n",
    "    Vo = 300\n",
    "    \n",
    "    #g=9.8\n",
    "    g = 9.8\n",
    "    \n",
    "    #Argumento del seno inverso\n",
    "    argumento = (rango*g)/Vo**2\n",
    "    \n",
    "    #Calculamos el seno inverso de nuestro argumento\n",
    "    arcsin = math.asin(argumento)\n",
    "    \n",
    "    #Este seno inverso esta en radianes, lo pasaremos a grados.\n",
    "    grados=math.degrees(arcsin)\n",
    "    \n",
    "    #theta=1/2 * grados\n",
    "    Theta=(1/2)*grados\n",
    "    print(\" \")\n",
    "    print(\"****************************************************************************************\")\n",
    "    print(f\"EL ángulo para el cual la bala de cañon impactará es {Theta} grados\")\n",
    "    print(\"****************************************************************************************\")\n",
    "    "
   ]
  },
  {
   "cell_type": "code",
   "execution_count": 28,
   "metadata": {},
   "outputs": [
    {
     "name": "stdout",
     "output_type": "stream",
     "text": [
      "CÁLCULO DEL ÁNGULO PARA PODER IMPACTAR EL CASTILLO ENEMIGO\n",
      " \n",
      "Ingrese el valor en metros de la posicion Px del castillo: 800\n",
      " \n",
      "Ingrese el valor en metros de la posicion Py el castillo: 300\n",
      " \n",
      " \n",
      "****************************************************************************************\n",
      "EL ángulo para el cual la bala de cañon impactará es 2.812006590241966 grados\n",
      "****************************************************************************************\n"
     ]
    }
   ],
   "source": [
    "theta()"
   ]
  },
  {
   "cell_type": "markdown",
   "metadata": {},
   "source": [
    "#### Elaborado por Isis América Santos Castellanos."
   ]
  },
  {
   "cell_type": "markdown",
   "metadata": {},
   "source": [
    "7- Si conoce el punto y tiempo de disparo del proyectil y punto y tiempo de caída al suelo, ¿Puede encontrar la velocidad inicial $v_0 = (v_{x_0}, v_{y_0})$ con la cual fue disparado? Si es así, programelo. Si no, indique lo que hace falta, y utilícelo para un programa que lo calcule."
   ]
  },
  {
   "cell_type": "code",
   "execution_count": 29,
   "metadata": {},
   "outputs": [
    {
     "name": "stdout",
     "output_type": "stream",
     "text": [
      "Ingrese el valor de la posicion final: 2\n",
      "Ingrese el valor de la posicion inicial, tiene que ser menor que la posicion final: 1\n",
      "Ingrese el valor del tiempo, tiene que ser distinto de 0: 5\n"
     ]
    },
    {
     "data": {
      "text/plain": [
       "0.2"
      ]
     },
     "execution_count": 29,
     "metadata": {},
     "output_type": "execute_result"
    }
   ],
   "source": [
    "def vel_inicial_x():\n",
    "    result = (x - x0)/t\n",
    "    return(result)\n",
    "x = float(input(\"Ingrese el valor de la posicion final: \"))\n",
    "x0 = float(input(\"Ingrese el valor de la posicion inicial, tiene que ser menor que la posicion final: \"))\n",
    "t = float(input(\"Ingrese el valor del tiempo, tiene que ser distinto de 0: \"))\n",
    "vel_inicial_x()"
   ]
  },
  {
   "cell_type": "code",
   "execution_count": 30,
   "metadata": {},
   "outputs": [
    {
     "name": "stdout",
     "output_type": "stream",
     "text": [
      "Ingrese el valor del tiempo, tiene que ser distinto de cero: 6\n",
      "Ingrese el valor de la posicion final: 3\n",
      "Ingrese el valor de la posicion inicial, menor que la final: 4\n"
     ]
    },
    {
     "data": {
      "text/plain": [
       "58.63333333333333"
      ]
     },
     "execution_count": 30,
     "metadata": {},
     "output_type": "execute_result"
    }
   ],
   "source": [
    "def vel_inicial_y():\n",
    "    result = (y - a*t**2-y0)/t\n",
    "    return(result)\n",
    "t = float(input(\"Ingrese el valor del tiempo, tiene que ser distinto de cero: \"))\n",
    "y = float(input(\"Ingrese el valor de la posicion final: \"))\n",
    "y0 = float(input(\"Ingrese el valor de la posicion inicial, menor que la final: \"))\n",
    "a = -9.8\n",
    "vel_inicial_y()"
   ]
  },
  {
   "cell_type": "code",
   "execution_count": null,
   "metadata": {},
   "outputs": [],
   "source": []
  }
 ],
 "metadata": {
  "kernelspec": {
   "display_name": "Python 3",
   "language": "python",
   "name": "python3"
  },
  "language_info": {
   "codemirror_mode": {
    "name": "ipython",
    "version": 3
   },
   "file_extension": ".py",
   "mimetype": "text/x-python",
   "name": "python",
   "nbconvert_exporter": "python",
   "pygments_lexer": "ipython3",
   "version": "3.8.3"
  }
 },
 "nbformat": 4,
 "nbformat_minor": 4
}
