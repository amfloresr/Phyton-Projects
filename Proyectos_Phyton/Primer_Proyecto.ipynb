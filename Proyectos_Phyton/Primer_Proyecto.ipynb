{
 "cells": [
  {
   "cell_type": "markdown",
   "metadata": {},
   "source": [
    "# Inciso 1"
   ]
  },
  {
   "cell_type": "markdown",
   "metadata": {},
   "source": [
    "### Cree funciones para todos los objetos fundamentales: $x(t)$, $y(t)$, $\\vec{r}(t)$"
   ]
  },
  {
   "cell_type": "markdown",
   "metadata": {},
   "source": [
    "Función para el movimiento vertical x(t)."
   ]
  },
  {
   "cell_type": "code",
   "execution_count": 87,
   "metadata": {},
   "outputs": [
    {
     "name": "stdout",
     "output_type": "stream",
     "text": [
      "Introduzca el valor de posición inicial: 1\n",
      "Introduzca el valor de la velocidad inicial: 1\n",
      "Introduzca el valor del tiempo: 1\n"
     ]
    },
    {
     "data": {
      "text/plain": [
       "2.0"
      ]
     },
     "execution_count": 87,
     "metadata": {},
     "output_type": "execute_result"
    }
   ],
   "source": [
    "#Se necesita la ecuación que describe al movimiento horizontal el cual se define como x(t)=x0+v0x*t\n",
    "def mov_horizontal():\n",
    "    resultado = x0 + v0x *(t)\n",
    "    return(resultado)\n",
    "x0 = float(input(\"Introduzca el valor de posición inicial: \"))\n",
    "v0x = float(input(\"Introduzca el valor de la velocidad inicial: \"))\n",
    "t = float(input(\"Introduzca el valor del tiempo: \"))\n",
    "mov_horizontal()"
   ]
  },
  {
   "cell_type": "markdown",
   "metadata": {},
   "source": [
    "Función para el movimiento horizontal y(t)."
   ]
  },
  {
   "cell_type": "code",
   "execution_count": 88,
   "metadata": {},
   "outputs": [
    {
     "name": "stdout",
     "output_type": "stream",
     "text": [
      "Introduzca el valor de posición inicial: 1\n",
      "Introduzca el valor de la velocidad inicial: 1\n",
      "Introduzca el valor del tiempo: 1\n"
     ]
    },
    {
     "data": {
      "text/plain": [
       "-2.9000000000000004"
      ]
     },
     "execution_count": 88,
     "metadata": {},
     "output_type": "execute_result"
    }
   ],
   "source": [
    "#Ecuación que describe al movimiento vertical: y(t)=yo+v0yt+at**2/2\n",
    "def mov_vertical():\n",
    "    resultado = y0 + v0*(t) + a*t**2/2\n",
    "    return(resultado)\n",
    "y0 = float(input(\"Introduzca el valor de posición inicial: \"))\n",
    "v0 = float(input(\"Introduzca el valor de la velocidad inicial: \"))\n",
    "t = float(input(\"Introduzca el valor del tiempo: \"))\n",
    "a = -9.8\n",
    "mov_vertical()"
   ]
  },
  {
   "cell_type": "markdown",
   "metadata": {},
   "source": [
    "Función para el vector $\\vec{r}(t)$"
   ]
  },
  {
   "cell_type": "code",
   "execution_count": 91,
   "metadata": {},
   "outputs": [
    {
     "data": {
      "text/plain": [
       "[1.0, 2.0]"
      ]
     },
     "execution_count": 91,
     "metadata": {},
     "output_type": "execute_result"
    }
   ],
   "source": [
    "#Se necesitan definir el vector, por lo que se utilizará una tupla.\n",
    "def vec_r(mov_horizontal,mov_vertical):\n",
    "    return [float(mov_horizontal),float(mov_vertical)]\n",
    "vec_r(1,2)"
   ]
  },
  {
   "cell_type": "code",
   "execution_count": null,
   "metadata": {},
   "outputs": [],
   "source": []
  }
 ],
 "metadata": {
  "kernelspec": {
   "display_name": "Python 3",
   "language": "python",
   "name": "python3"
  },
  "language_info": {
   "codemirror_mode": {
    "name": "ipython",
    "version": 3
   },
   "file_extension": ".py",
   "mimetype": "text/x-python",
   "name": "python",
   "nbconvert_exporter": "python",
   "pygments_lexer": "ipython3",
   "version": "3.8.3"
  }
 },
 "nbformat": 4,
 "nbformat_minor": 4
}
