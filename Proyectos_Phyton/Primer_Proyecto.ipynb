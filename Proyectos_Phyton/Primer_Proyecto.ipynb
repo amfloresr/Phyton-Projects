{
 "cells": [
  {
   "cell_type": "markdown",
   "metadata": {},
   "source": [
    "# Inciso I"
   ]
  },
  {
   "cell_type": "markdown",
   "metadata": {},
   "source": [
    "### Cree funciones para todos los objetos fundamentales: $x(t)$, $y(t)$, $\\vec{r}(t)$"
   ]
  },
  {
   "cell_type": "markdown",
   "metadata": {},
   "source": [
    "Función para el movimiento horizontal x(t)."
   ]
  },
  {
   "cell_type": "code",
   "execution_count": 99,
   "metadata": {},
   "outputs": [
    {
     "name": "stdout",
     "output_type": "stream",
     "text": [
      "Introduzca el valor de la posición inicial: 1\n",
      "Introduzca el valor de la velocidad inicial: 1\n",
      "Introduzca el valor del tiempo: 1\n"
     ]
    },
    {
     "data": {
      "text/plain": [
       "2.0"
      ]
     },
     "execution_count": 99,
     "metadata": {},
     "output_type": "execute_result"
    }
   ],
   "source": [
    "#Se necesita la ecuación que describe al movimiento horizontal el cual se define como x(t)=x0+v0x*t\n",
    "def mov_horizontal():\n",
    "    resultado = x0 + v0x *(t)\n",
    "    return(resultado)\n",
    "x0 = float(input(\"Introduzca el valor de la posición inicial: \"))\n",
    "v0x = float(input(\"Introduzca el valor de la velocidad inicial: \"))\n",
    "t = float(input(\"Introduzca el valor del tiempo: \"))\n",
    "mov_horizontal()"
   ]
  },
  {
   "cell_type": "markdown",
   "metadata": {},
   "source": [
    "Función para el movimiento vertical y(t)."
   ]
  },
  {
   "cell_type": "code",
   "execution_count": 100,
   "metadata": {},
   "outputs": [
    {
     "name": "stdout",
     "output_type": "stream",
     "text": [
      "Introduzca el valor de la posición inicial: 1\n",
      "Introduzca el valor de la velocidad inicial: 1\n",
      "Introduzca el valor del tiempo: 1\n"
     ]
    },
    {
     "data": {
      "text/plain": [
       "-2.9000000000000004"
      ]
     },
     "execution_count": 100,
     "metadata": {},
     "output_type": "execute_result"
    }
   ],
   "source": [
    "#Ecuación que describe al movimiento vertical: y(t)=yo+v0yt+at**2/2\n",
    "def mov_vertical():\n",
    "    resultado = y0 + v0*(t) + a*t**2/2\n",
    "    return(resultado)\n",
    "y0 = float(input(\"Introduzca el valor de la posición inicial: \"))\n",
    "v0 = float(input(\"Introduzca el valor de la velocidad inicial: \"))\n",
    "t = float(input(\"Introduzca el valor del tiempo: \"))\n",
    "a = -9.8\n",
    "mov_vertical()"
   ]
  },
  {
   "cell_type": "markdown",
   "metadata": {},
   "source": [
    "Función para el vector $\\vec{r}(t)$"
   ]
  },
  {
   "cell_type": "code",
   "execution_count": 98,
   "metadata": {},
   "outputs": [
    {
     "data": {
      "text/plain": [
       "(1.0, 1.0)"
      ]
     },
     "execution_count": 98,
     "metadata": {},
     "output_type": "execute_result"
    }
   ],
   "source": [
    "#Se necesita definir el vector, por lo que se utilizará una tupla.\n",
    "def vec_r(mov_horizontal,mov_vertical):\n",
    "    return (float(mov_horizontal),float(mov_vertical))\n",
    "vec_r(1,1)"
   ]
  },
  {
   "cell_type": "markdown",
   "metadata": {},
   "source": [
    "# Inciso II "
   ]
  },
  {
   "cell_type": "markdown",
   "metadata": {},
   "source": [
    "### A continuación cada uno de los integrantes del grupo #4 creará una función que responda cada una de las siguientes preguntas:"
   ]
  },
  {
   "cell_type": "markdown",
   "metadata": {},
   "source": [
    "1- ¿En qué tiempo $t$ una pelota (definida por su estado inicial $(r_0, v_0)$) cae al suelo? ¿Qué tal si lo que queremos es que caiga sobre una repisa de altura $h$?"
   ]
  },
  {
   "cell_type": "markdown",
   "metadata": {},
   "source": [
    "¿En qué tiempo  𝑡  una pelota (definida por su estado inicial  (𝑟0,𝑣0) ) cae al suelo?"
   ]
  },
  {
   "cell_type": "markdown",
   "metadata": {},
   "source": [
    "Se necesita despejar el tiempo de la ecuación que describe al movimiento vertical, esto se reduce a realizar una función  que resuelva una ecuación cuadrática."
   ]
  },
  {
   "cell_type": "code",
   "execution_count": 55,
   "metadata": {},
   "outputs": [],
   "source": [
    "def ecuacion(a,b,c):\n",
    "    disc=b**2-4*a*c #dis=discriminante\n",
    "    if disc>=0:\n",
    "        x=[(-b+disc**0.5)/(2*a),(-b-disc**0.5)/(2*a)]\n",
    "        return x\n",
    "    else:\n",
    "        print(\"Su solución es un número imaginario\")"
   ]
  },
  {
   "cell_type": "code",
   "execution_count": 58,
   "metadata": {},
   "outputs": [],
   "source": [
    "def x(estado_inicial,vel_inicial,a=-9.8): #x=tiempo en el que la pelota caerá al suelo\n",
    "    pos_inicial_vertical=float(estado_inicial[1])\n",
    "    vel_inicial_vertical=float(vel_inicial[1])\n",
    "    tiempo=ecuacion(a/2,vel_inicial_vertical,pos_inicial_vertical)\n",
    "    try:\n",
    "        return (float(tiempo[0]) if float(tiempo[0])>float(tiempo[1]) else float(tiempo[1]))\n",
    "    except:\n",
    "        print(\"Intentelo de nuevo\")"
   ]
  },
  {
   "cell_type": "code",
   "execution_count": 77,
   "metadata": {},
   "outputs": [
    {
     "name": "stdout",
     "output_type": "stream",
     "text": [
      "----Cálculo del tiempo en que una pelota caería al suelo con sus condiciones iniciales----\n",
      "1. Introduzca la posición horizontal: 4\n",
      "2. Introduzca posición vertical: 7\n",
      "3. Introduzca la velocidad inicial horizontal: 16\n",
      "4. Introduzca la velocidad inicial vertical: 16\n",
      "El tiempo en que la pelota caerá al suelo es: 3.656048091093133 segundos\n"
     ]
    }
   ],
   "source": [
    "print(\"----Cálculo del tiempo en que una pelota caería al suelo con sus condiciones iniciales----\")\n",
    "estado_inicial=[input(\"1. Introduzca la posición horizontal: \"),input(\"2. Introduzca posición vertical: \")]\n",
    "vel_inicial=[input(\"3. Introduzca la velocidad inicial horizontal: \"),input(\"4. Introduzca la velocidad inicial vertical: \")]\n",
    "tiempo=x(estado_inicial,vel_inicial)\n",
    "try:\n",
    "    if tiempo>0:\n",
    "        print(f\"El tiempo en que la pelota caerá al suelo es: {tiempo} segundos\")\n",
    "    else:\n",
    "        print(\"Intentelo de nuevo\")\n",
    "except:\n",
    "    pass"
   ]
  },
  {
   "cell_type": "markdown",
   "metadata": {},
   "source": [
    "¿Qué tal si lo que queremos es que caiga sobre una repisa de altura  ℎ ?"
   ]
  },
  {
   "cell_type": "markdown",
   "metadata": {},
   "source": [
    "3- ¿Cuál es la altura máxima que alcanza la Piedra? ¿En qué tiempo la alcanzó?\n",
    "\n",
    "PROBLEMA:\n",
    "Un niño de 7 años quiere matar un ave con su resortera. Para ello el niño dispara una piedra  con un angulo **Theta** y con una **velocidad incial** describiendo un movimiento parabólico. Suponiendo que se logró el objetivo, determinar:\n",
    "* La altura máxima que alcanzó la piedra en su trayectoria.\n",
    "* EL tiempo en Ymax. \n",
    "\n",
    "Sabiendo que se pueden alterar los parámetros de entrada para futuros cálculos, desarrolle su programa.\n",
    "\n",
    "DESARROLLO:\n",
    "\n",
    "$$\n",
    "y(t) = y_0 + v_0sen(θ)t + \\frac{at²}{2}                           \n",
    "$$\n",
    "\n",
    "$$\n",
    "v_y(t) = v_0sen(θ)+at                                             \n",
    "$$\n",
    "\n",
    "En Ymax, Vy = 0. y a = -9.8.\n",
    "se despeja para el tiempo de la segunda ecuación:\n",
    "\n",
    "$$\n",
    "t = \\frac{v_0sen(θ)}{g}\n",
    "$$\n",
    "\n",
    "y se sustituye a la otra ecuación, queda:\n",
    "\n",
    "$$\n",
    "y_(max) = \\frac{v_0²sen²(θ)}{2g}\n",
    "$$"
   ]
  },
  {
   "cell_type": "code",
   "execution_count": 6,
   "metadata": {},
   "outputs": [
    {
     "name": "stdout",
     "output_type": "stream",
     "text": [
      "Theta: Ingrese un número (ángulo en grados): 30\n",
      "Velocidad inicial: Ingrese un número: 2\n",
      "La altura maxima es:\n",
      "0.05102040816326529\n",
      "El tiempo en Ymax es:\n",
      "0.10204081632653059\n"
     ]
    }
   ],
   "source": [
    "#Encontrando Ymax\n",
    "import math\n",
    "theta = float(input(\"Theta: Ingrese un número (ángulo en grados): \"))\n",
    "theta_rad = math.radians(theta)\n",
    "sintheta =  math.sin(theta_rad)\n",
    "\n",
    "vel_inicial = float(input(\"Velocidad inicial: Ingrese un número: \"))\n",
    "g = float(9.8)\n",
    "\n",
    "def Ymax():\n",
    "    result = vel_inicial**2*sintheta**2/(2*g)\n",
    "    return(result)\n",
    "\n",
    "print(\"La altura maxima es:\")\n",
    "print(Ymax())\n",
    "\n",
    "#Encontrando el tiempo en Ymax\n",
    "def t():\n",
    "    tiempo = vel_inicial*sintheta/g\n",
    "    return(tiempo)\n",
    "\n",
    "print(\"El tiempo en Ymax es:\")\n",
    "print(t())"
   ]
  },
  {
   "cell_type": "markdown",
   "metadata": {},
   "source": [
    "4- ¿A qué ángulo $\\theta$ debemos colocar el cañón (situado en el origen $(0,0)$) para que la bala destruya el castillo enemigo en un punto $(p_x, p_y)$ y dimensiones $h \\times w$?"
   ]
  },
  {
   "cell_type": "code",
   "execution_count": 22,
   "metadata": {},
   "outputs": [],
   "source": [
    "import math\n",
    "def theta():    \n",
    "    print(\"====CÁLCULO DEL ÁNGULO PARA PODER IMPACTAR EL CASTILLO ENEMIGO====\")\n",
    "    print(\" \")\n",
    "\n",
    "    #posiciones px y py\n",
    "\n",
    "    try:      \n",
    "        PosicionX = float( input(\"Ingrese el valor en metros de la posicion Px del castillo: \"))\n",
    "        PosicionX = float(PosicionX)\n",
    "        print(\" \")\n",
    "    except ValueError:\n",
    "        print(\"\\nERROR: Debe ingresar un valor numérico.\\n\")\n",
    "        print(\"Intente de nuevo.\")\n",
    "        theta()\n",
    "        return(None)\n",
    "\n",
    "    try:      \n",
    "        PosicionY = float(input(\"Ingrese el valor en metros de la posicion Py el castillo: \"))\n",
    "        PosicionY = float(PosicionY)\n",
    "        print(\" \")\n",
    "    except ValueError:\n",
    "        print(\"\\nERROR: Debe ingresar un valor numérico.\\n\")\n",
    "        print(\"Intente de nuevo.\")\n",
    "        theta()\n",
    "        return(None)\n",
    "    \n",
    "    #theta=1/2 arcSin((rango*g)/Vo^2)\n",
    "    \n",
    "    #Siempre sera el punto en x donde esta ubicado el castillo.\n",
    "    #A este valor le vamos a dar un aumento de 100 metros para considerar un impacto más alto.\n",
    "    rango = PosicionX+100\n",
    "    \n",
    "    #investigando sobre las velocidades de las balas de cañon, vamos a considerar que las velocidades iniciales son de 300 m/s.\n",
    "    Vo = 300\n",
    "    \n",
    "    #g=9.8\n",
    "    g = 9.8\n",
    "    \n",
    "    #Argumento del seno inverso\n",
    "    argumento = (rango*g)/Vo**2\n",
    "    \n",
    "    #Calculamos el seno inverso de nuestro argumento\n",
    "    arcsin = math.asin(argumento)\n",
    "    \n",
    "    #Este seno inverso esta en radianes, lo pasaremos a grados.\n",
    "    grados=math.degrees(arcsin)\n",
    "    \n",
    "    #theta=1/2 * grados\n",
    "    Theta=(1/2)*grados\n",
    "    print(\" \")\n",
    "    print(\"****************************************************************************************\")\n",
    "    print(f\"EL ángulo para el cual la bala de cañon impactará es {Theta} grados\")\n",
    "    print(\"****************************************************************************************\")\n",
    "    "
   ]
  },
  {
   "cell_type": "code",
   "execution_count": 28,
   "metadata": {},
   "outputs": [
    {
     "name": "stdout",
     "output_type": "stream",
     "text": [
      "CÁLCULO DEL ÁNGULO PARA PODER IMPACTAR EL CASTILLO ENEMIGO\n",
      " \n",
      "Ingrese el valor en metros de la posicion Px del castillo: 800\n",
      " \n",
      "Ingrese el valor en metros de la posicion Py el castillo: 300\n",
      " \n",
      " \n",
      "****************************************************************************************\n",
      "EL ángulo para el cual la bala de cañon impactará es 2.812006590241966 grados\n",
      "****************************************************************************************\n"
     ]
    }
   ],
   "source": [
    "theta()"
   ]
  },
  {
   "cell_type": "markdown",
   "metadata": {},
   "source": [
    "7- Si conoce el punto y tiempo de disparo del proyectil y punto y tiempo de caída al suelo, ¿Puede encontrar la velocidad inicial $v_0 = (v_{x_0}, v_{y_0})$ con la cual fue disparado? Si es así, programelo. Si no, indique lo que hace falta, y utilícelo para un programa que lo calcule."
   ]
  },
  {
   "cell_type": "code",
   "execution_count": 29,
   "metadata": {},
   "outputs": [
    {
     "name": "stdout",
     "output_type": "stream",
     "text": [
      "Ingrese el valor de la posicion final: 2\n",
      "Ingrese el valor de la posicion inicial, tiene que ser menor que la posicion final: 1\n",
      "Ingrese el valor del tiempo, tiene que ser distinto de 0: 5\n"
     ]
    },
    {
     "data": {
      "text/plain": [
       "0.2"
      ]
     },
     "execution_count": 29,
     "metadata": {},
     "output_type": "execute_result"
    }
   ],
   "source": [
    "def vel_inicial_x():\n",
    "    result = (x - x0)/t\n",
    "    return(result)\n",
    "x = float(input(\"Ingrese el valor de la posicion final: \"))\n",
    "x0 = float(input(\"Ingrese el valor de la posicion inicial, tiene que ser menor que la posicion final: \"))\n",
    "t = float(input(\"Ingrese el valor del tiempo, tiene que ser distinto de 0: \"))\n",
    "vel_inicial_x()"
   ]
  },
  {
   "cell_type": "code",
   "execution_count": 30,
   "metadata": {},
   "outputs": [
    {
     "name": "stdout",
     "output_type": "stream",
     "text": [
      "Ingrese el valor del tiempo, tiene que ser distinto de cero: 6\n",
      "Ingrese el valor de la posicion final: 3\n",
      "Ingrese el valor de la posicion inicial, menor que la final: 4\n"
     ]
    },
    {
     "data": {
      "text/plain": [
       "58.63333333333333"
      ]
     },
     "execution_count": 30,
     "metadata": {},
     "output_type": "execute_result"
    }
   ],
   "source": [
    "def vel_inicial_y():\n",
    "    result = (y - a*t**2-y0)/t\n",
    "    return(result)\n",
    "t = float(input(\"Ingrese el valor del tiempo, tiene que ser distinto de cero: \"))\n",
    "y = float(input(\"Ingrese el valor de la posicion final: \"))\n",
    "y0 = float(input(\"Ingrese el valor de la posicion inicial, menor que la final: \"))\n",
    "a = -9.8\n",
    "vel_inicial_y()"
   ]
  },
  {
   "cell_type": "code",
   "execution_count": null,
   "metadata": {},
   "outputs": [],
   "source": []
  }
 ],
 "metadata": {
  "kernelspec": {
   "display_name": "Python 3",
   "language": "python",
   "name": "python3"
  },
  "language_info": {
   "codemirror_mode": {
    "name": "ipython",
    "version": 3
   },
   "file_extension": ".py",
   "mimetype": "text/x-python",
   "name": "python",
   "nbconvert_exporter": "python",
   "pygments_lexer": "ipython3",
   "version": "3.8.3"
  }
 },
 "nbformat": 4,
 "nbformat_minor": 4
}
