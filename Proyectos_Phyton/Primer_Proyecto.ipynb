{
 "cells": [
  {
   "cell_type": "markdown",
   "metadata": {},
   "source": [
    "# Inciso 1\n",
    "\n",
    "### Cree funciones para los objetos fundamentales $x(t)$, $y(t)$, $\\vec{r}(t)$"
   ]
  },
  {
   "cell_type": "code",
   "execution_count": 4,
   "metadata": {},
   "outputs": [
    {
     "name": "stdout",
     "output_type": "stream",
     "text": [
      "Introduzca el valor de posicion inicial: 5\n",
      "Introduzca el valor de la velocidad inicial: 3\n",
      "Introduzca el valor del tiempo:2\n"
     ]
    },
    {
     "data": {
      "text/plain": [
       "11.0"
      ]
     },
     "execution_count": 4,
     "metadata": {},
     "output_type": "execute_result"
    }
   ],
   "source": [
    "def mov_horizontal():\n",
    "    resultado = x0 + v0x *(t)\n",
    "    return(resultado)\n",
    "x0 = float(input(\"Introduzca el valor de posicion inicial: \"))\n",
    "v0x = float(input(\"Introduzca el valor de la velocidad inicial: \"))\n",
    "t = float(input(\"Introduzca el valor del tiempo:\"))\n",
    "mov_horizontal()"
   ]
  },
  {
   "cell_type": "markdown",
   "metadata": {},
   "source": []
  }
 ],
 "metadata": {
  "kernelspec": {
   "display_name": "Python 3",
   "language": "python",
   "name": "python3"
  },
  "language_info": {
   "codemirror_mode": {
    "name": "ipython",
    "version": 3
   },
   "file_extension": ".py",
   "mimetype": "text/x-python",
   "name": "python",
   "nbconvert_exporter": "python",
   "pygments_lexer": "ipython3",
   "version": "3.8.3"
  }
 },
 "nbformat": 4,
 "nbformat_minor": 4
}
