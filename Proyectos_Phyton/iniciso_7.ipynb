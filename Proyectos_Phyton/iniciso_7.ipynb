{
 "cells": [
  {
   "cell_type": "code",
   "execution_count": null,
   "metadata": {},
   "outputs": [],
   "source": [
    "def vel_inicial_x():\n",
    "    result = (x - x0)/t\n",
    "    return(result)\n",
    "x = float(input(\"Ingrese el valor de la posicion final: \"))\n",
    "x0 = float(input(\"Ingrese el valor de la posicion inicial, tiene que ser menor que la posicion final: \"))\n",
    "t = float(input(\"Ingrese el valor del tiempo, tiene que ser distinto de 0: \"))\n",
    "vel_inicial_x()"
   ]
  },
  {
   "cell_type": "code",
   "execution_count": null,
   "metadata": {},
   "outputs": [],
   "source": [
    "def vel_inicial_y():\n",
    "    result = (y - a*t**2-y0)/t\n",
    "    return(result)\n",
    "t = float(input(\"Ingrese el valor del tiempo, tiene que ser distinto de cero: \"))\n",
    "y = float(input(\"Ingrese el valor de la posicion final: \"))\n",
    "y0 = float(input(\"Ingrese el valor de la posicion inicial, menor que la final: \"))\n",
    "a = -9.8\n",
    "vel_inicial_y()"
   ]
  },
  {
   "cell_type": "code",
   "execution_count": null,
   "metadata": {},
   "outputs": [],
   "source": []
  }
 ],
 "metadata": {
  "kernelspec": {
   "display_name": "Python 3",
   "language": "python",
   "name": "python3"
  },
  "language_info": {
   "codemirror_mode": {
    "name": "ipython",
    "version": 3
   },
   "file_extension": ".py",
   "mimetype": "text/x-python",
   "name": "python",
   "nbconvert_exporter": "python",
   "pygments_lexer": "ipython3",
   "version": "3.8.3"
  }
 },
 "nbformat": 4,
 "nbformat_minor": 4
}
