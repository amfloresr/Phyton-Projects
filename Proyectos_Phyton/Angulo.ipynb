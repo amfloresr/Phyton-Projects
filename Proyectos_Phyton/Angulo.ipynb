{
 "cells": [
  {
   "cell_type": "code",
   "execution_count": 75,
   "metadata": {},
   "outputs": [],
   "source": [
    "import math\n",
    "def theta():    \n",
    "    print(\"Cálculo del ángulo para ponder impactar el castillo enemigo\")\n",
    "    print(\" \")\n",
    "\n",
    "    #posiciones px y py\n",
    "\n",
    "    try:      \n",
    "        PocisionX = float( input(\"Ingrese el valor en metros de la posicion Px del castillo: \"))\n",
    "        PocisionX = float(PocisionX)\n",
    "        print(\" \")\n",
    "    except ValueError:\n",
    "        print(\"\\nERROR: Debe ingresar un valor numérico.\\n\")\n",
    "        print(\"Intente de nuevo.\")\n",
    "        theta()\n",
    "        return(None)\n",
    "\n",
    "    try:      \n",
    "        PocisionY = float(input(\"Ingrese el valor en metros de la posicion Py el castillo: \"))\n",
    "        PocisionY = float(PocisionY)\n",
    "        print(\" \")\n",
    "    except ValueError:\n",
    "        print(\"\\nERROR: Debe ingresar un valor numérico.\\n\")\n",
    "        print(\"Intente de nuevo.\")\n",
    "        theta()\n",
    "        return(None)\n",
    "    \n",
    "    #theta=1/2 arcSin((rango*g)/Vo^2)\n",
    "    \n",
    "    #Siempre sera el punto en x donde esta ubicado el castillo.\n",
    "    #A este valor le vamos a dar un aumento de 100 metros para considerar un impacto más alto.\n",
    "    rango = PocisionX+100\n",
    "    \n",
    "    #investigando sobre las velocidades de las balas de cañon, vamos a considerar que las velocidades iniciales son de 300 m/s.\n",
    "    Vo = 300\n",
    "    \n",
    "    #g=9.8\n",
    "    g = 9.8\n",
    "    \n",
    "    #Argumento del seno inverso\n",
    "    argumento = (rango*g)/Vo**2\n",
    "    \n",
    "    #Calculamos el seno inverso de nuestro argumento\n",
    "    arcsin = math.asin(argumento)\n",
    "    \n",
    "    #Este seno inverso esta en radianes, lo pasaremos a grados.\n",
    "    grados=math.degrees(arcsin)\n",
    "    \n",
    "    #theta=1/2 * grados\n",
    "    Theta=(1/2)*grados\n",
    "    print(\" \")\n",
    "    print(\"****************************************************************************************\")\n",
    "    print(f\"EL angulo para el cual la bala de cañon impactara es {Theta} grados\")\n",
    "    print(\"****************************************************************************************\")\n",
    "    "
   ]
  },
  {
   "cell_type": "code",
   "execution_count": 76,
   "metadata": {},
   "outputs": [
    {
     "name": "stdout",
     "output_type": "stream",
     "text": [
      "Cálculo del ángulo para ponder impactar el castillo enemigo\n",
      " \n",
      "Ingrese el valor en metros de la posicion Px del castillo: 800\n",
      " \n",
      "Ingrese el valor en metros de la posicion Py el castillo: 300\n",
      " \n",
      " \n",
      "****************************************************************************************\n",
      "EL angulo para el cual la bala de cañon impactara es 2.812006590241966 grados\n",
      "****************************************************************************************\n"
     ]
    }
   ],
   "source": [
    "theta()"
   ]
  },
  {
   "cell_type": "code",
   "execution_count": null,
   "metadata": {},
   "outputs": [],
   "source": []
  }
 ],
 "metadata": {
  "kernelspec": {
   "display_name": "Python 3",
   "language": "python",
   "name": "python3"
  },
  "language_info": {
   "codemirror_mode": {
    "name": "ipython",
    "version": 3
   },
   "file_extension": ".py",
   "mimetype": "text/x-python",
   "name": "python",
   "nbconvert_exporter": "python",
   "pygments_lexer": "ipython3",
   "version": "3.8.3"
  }
 },
 "nbformat": 4,
 "nbformat_minor": 4
}
