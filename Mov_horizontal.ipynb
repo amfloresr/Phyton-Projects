{
 "cells": [
  {
   "cell_type": "code",
   "execution_count": 2,
   "metadata": {},
   "outputs": [
    {
     "name": "stdout",
     "output_type": "stream",
     "text": [
      "Introduzca el valor de posicion inicial15\n",
      "Introduzca el valor de la velocidad inicial2\n",
      "Introduzca el valor del tiempo3\n"
     ]
    },
    {
     "data": {
      "text/plain": [
       "21.0"
      ]
     },
     "execution_count": 2,
     "metadata": {},
     "output_type": "execute_result"
    }
   ],
   "source": [
    "def mov_horizontal():\n",
    "    result = posinicial + velinicial *(tiempo)\n",
    "    return(result)\n",
    "posinicial = float(input(\"Introduzca el valor de posicion inicial\"))\n",
    "velinicial = float(input(\"Introduzca el valor de la velocidad inicial\"))\n",
    "tiempo = float(input(\"Introduzca el valor del tiempo\"))\n",
    "mov_horizontal()"
   ]
  },
  {
   "cell_type": "code",
   "execution_count": null,
   "metadata": {},
   "outputs": [],
   "source": []
  }
 ],
 "metadata": {
  "kernelspec": {
   "display_name": "Python 3",
   "language": "python",
   "name": "python3"
  },
  "language_info": {
   "codemirror_mode": {
    "name": "ipython",
    "version": 3
   },
   "file_extension": ".py",
   "mimetype": "text/x-python",
   "name": "python",
   "nbconvert_exporter": "python",
   "pygments_lexer": "ipython3",
   "version": "3.8.3"
  }
 },
 "nbformat": 4,
 "nbformat_minor": 4
}
