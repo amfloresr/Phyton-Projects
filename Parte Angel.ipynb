{
 "cells": [
  {
   "cell_type": "markdown",
   "metadata": {},
   "source": [
    "## ¿Cuál es la altura máxima que alcanza la Piedra? ¿En qué tiempo la alcanzó?\n",
    "\n",
    "PROBLEMA:\n",
    "Un niño de 7 años quiere matar un ave con su resortera. Para ello el niño dispara una piedra  con un angulo **Theta** y con una **velocidad incial** describiendo un movimiento parabólico. Suponiendo que se logró el objetivo, determinar:\n",
    "* La altura máxima que alcanzó la piedra en su trayectoria.\n",
    "* EL tiempo en Ymax. \n",
    "\n",
    "Sabiendo que se pueden alterar los parámetros de entrada para futuros cálculos, desarrolle su programa.\n",
    "\n",
    "DESARROLLO:\n",
    "\n",
    "$$\n",
    "y(t) = y_0 + v_0sen(θ)t + \\frac{at²}{2}                           \n",
    "$$\n",
    "\n",
    "$$\n",
    "v_y(t) = v_0sen(θ)+at                                             \n",
    "$$\n",
    "\n",
    "En Ymax, Vy = 0. y a = -9.8.\n",
    "se despeja para el tiempo de la segunda ecuación:\n",
    "\n",
    "$$\n",
    "t = \\frac{v_0sen(θ)}{g}\n",
    "$$\n",
    "\n",
    "y se sustituye a la otra ecuación, queda:\n",
    "\n",
    "$$\n",
    "y_(max) = \\frac{v_0²sen²(θ)}{2g}\n",
    "$$"
   ]
  },
  {
   "cell_type": "code",
   "execution_count": 4,
   "metadata": {},
   "outputs": [
    {
     "name": "stdin",
     "output_type": "stream",
     "text": [
      "Theta: Ingrese un número (ángulo en grados) 30\n",
      "Velocidad inicial: Ingrese un número 2\n"
     ]
    },
    {
     "name": "stdout",
     "output_type": "stream",
     "text": [
      "La altura maxima es:\n",
      "0.05102040816326529\n",
      "El tiempo en Ymax es:\n",
      "0.10204081632653059\n"
     ]
    }
   ],
   "source": [
    "#Encontrando Ymax\n",
    "import math\n",
    "theta = float(input(\"Theta: Ingrese un número (ángulo en grados)\"))\n",
    "theta_rad = math.radians(theta)\n",
    "sintheta =  math.sin(theta_rad)\n",
    "\n",
    "vel_inicial = float(input(\"Velocidad inicial: Ingrese un número\"))\n",
    "g = float(9.8)\n",
    "\n",
    "def Ymax():\n",
    "    result = vel_inicial**2*sintheta**2/(2*g)\n",
    "    return(result)\n",
    "\n",
    "print(\"La altura maxima es:\")\n",
    "print(Ymax())\n",
    "\n",
    "#Encontrando el tiempo en Ymax\n",
    "def t():\n",
    "    tiempo = vel_inicial*sintheta/g\n",
    "    return(tiempo)\n",
    "\n",
    "print(\"El tiempo en Ymax es:\")\n",
    "print(t())"
   ]
  },
  {
   "cell_type": "markdown",
   "metadata": {},
   "source": []
  },
  {
   "cell_type": "code",
   "execution_count": null,
   "metadata": {},
   "outputs": [],
   "source": []
  }
 ],
 "metadata": {
  "kernelspec": {
   "display_name": "Python 3",
   "language": "python",
   "name": "python3"
  },
  "language_info": {
   "codemirror_mode": {
    "name": "ipython",
    "version": 3
   },
   "file_extension": ".py",
   "mimetype": "text/x-python",
   "name": "python",
   "nbconvert_exporter": "python",
   "pygments_lexer": "ipython3",
   "version": "3.8.3"
  }
 },
 "nbformat": 4,
 "nbformat_minor": 4
}
