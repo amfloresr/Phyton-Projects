{
 "cells": [
  {
   "cell_type": "code",
   "execution_count": 14,
   "metadata": {},
   "outputs": [
    {
     "name": "stdout",
     "output_type": "stream",
     "text": [
      "Window is open\n",
      "Window is open\n",
      "Window is open\n",
      "Window is open\n",
      "Window is open\n"
     ]
    },
    {
     "ename": "TclError",
     "evalue": "invalid command name \".!canvas\"",
     "output_type": "error",
     "traceback": [
      "\u001b[1;31m---------------------------------------------------------------------------\u001b[0m",
      "\u001b[1;31mTclError\u001b[0m                                  Traceback (most recent call last)",
      "\u001b[1;32m<ipython-input-14-9fa38f3753ad>\u001b[0m in \u001b[0;36m<module>\u001b[1;34m\u001b[0m\n\u001b[0;32m     41\u001b[0m \u001b[0mrun\u001b[0m\u001b[1;33m=\u001b[0m\u001b[1;32mTrue\u001b[0m\u001b[1;33m\u001b[0m\u001b[1;33m\u001b[0m\u001b[0m\n\u001b[0;32m     42\u001b[0m \u001b[1;32mwhile\u001b[0m \u001b[0mrun\u001b[0m\u001b[1;33m:\u001b[0m\u001b[1;33m\u001b[0m\u001b[1;33m\u001b[0m\u001b[0m\n\u001b[1;32m---> 43\u001b[1;33m     \u001b[0msquarepos\u001b[0m\u001b[1;33m=\u001b[0m\u001b[0mcanvas\u001b[0m\u001b[1;33m.\u001b[0m\u001b[0mcoords\u001b[0m\u001b[1;33m(\u001b[0m\u001b[1;36m3\u001b[0m\u001b[1;33m)\u001b[0m\u001b[1;33m\u001b[0m\u001b[1;33m\u001b[0m\u001b[0m\n\u001b[0m\u001b[0;32m     44\u001b[0m     \u001b[0mspikepos\u001b[0m\u001b[1;33m=\u001b[0m\u001b[0mcanvas\u001b[0m\u001b[1;33m.\u001b[0m\u001b[0mcoords\u001b[0m\u001b[1;33m(\u001b[0m\u001b[1;36m4\u001b[0m\u001b[1;33m)\u001b[0m\u001b[1;33m\u001b[0m\u001b[1;33m\u001b[0m\u001b[0m\n\u001b[0;32m     45\u001b[0m     \u001b[0morbpos\u001b[0m\u001b[1;33m=\u001b[0m\u001b[0mcanvas\u001b[0m\u001b[1;33m.\u001b[0m\u001b[0mcoords\u001b[0m\u001b[1;33m(\u001b[0m\u001b[1;36m5\u001b[0m\u001b[1;33m)\u001b[0m\u001b[1;33m\u001b[0m\u001b[1;33m\u001b[0m\u001b[0m\n",
      "\u001b[1;32mC:\\ProgramData\\Anaconda3\\lib\\tkinter\\__init__.py\u001b[0m in \u001b[0;36mcoords\u001b[1;34m(self, *args)\u001b[0m\n\u001b[0;32m   2759\u001b[0m         return [self.tk.getdouble(x) for x in\n\u001b[0;32m   2760\u001b[0m                            self.tk.splitlist(\n\u001b[1;32m-> 2761\u001b[1;33m                    self.tk.call((self._w, 'coords') + args))]\n\u001b[0m\u001b[0;32m   2762\u001b[0m \u001b[1;33m\u001b[0m\u001b[0m\n\u001b[0;32m   2763\u001b[0m     \u001b[1;32mdef\u001b[0m \u001b[0m_create\u001b[0m\u001b[1;33m(\u001b[0m\u001b[0mself\u001b[0m\u001b[1;33m,\u001b[0m \u001b[0mitemType\u001b[0m\u001b[1;33m,\u001b[0m \u001b[0margs\u001b[0m\u001b[1;33m,\u001b[0m \u001b[0mkw\u001b[0m\u001b[1;33m)\u001b[0m\u001b[1;33m:\u001b[0m \u001b[1;31m# Args: (val, val, ..., cnf={})\u001b[0m\u001b[1;33m\u001b[0m\u001b[1;33m\u001b[0m\u001b[0m\n",
      "\u001b[1;31mTclError\u001b[0m: invalid command name \".!canvas\""
     ]
    }
   ],
   "source": [
    "#Alejandra Flores\n",
    "#Importe de paquetes\n",
    "import time\n",
    "from tkinter import *\n",
    "\n",
    "#Configuración de la ventana.\n",
    "tk=Tk()\n",
    "canvas = Canvas(tk, height=500, width=800, bd=0, highlightthickness=0)\n",
    "attempt=1\n",
    "tk.title(attempt)\n",
    "tk.resizable(0, 0)\n",
    "canvas.pack()\n",
    "jumpcount=-15\n",
    "window=False\n",
    "jumping=False\n",
    "\n",
    "def jump(evento):\n",
    "    global jumping\n",
    "    jumping=True\n",
    "    if window==True:\n",
    "        jumpcount=15\n",
    "def die():\n",
    "    global attempt\n",
    "    canvas.move(3,0,999)\n",
    "    attempt+=1\n",
    "    time.sleep(0.75)\n",
    "    canvas.move(3,0,-999)\n",
    "    canvas.move(4,800,0)\n",
    "    canvas.move(5,800,0)\n",
    "    \n",
    "\n",
    "    \n",
    "#Se definen los colores y dimensiones de cada figura.\n",
    "canvas.create_rectangle(-1,400,800,500,fill='purple')\n",
    "canvas.create_rectangle(-1,-1,800,400,fill='violet')\n",
    "canvas.create_rectangle(50,350,100,400,fill='Blue')\n",
    "canvas.create_polygon(400,400,425,350,450,400,fill='red')\n",
    "canvas.create_oval(500,250,550,300,fill='yellow')\n",
    "canvas.bind_all('<space>',jump)\n",
    "tk.update()\n",
    "run=True\n",
    "while run:\n",
    "    squarepos=canvas.coords(3)\n",
    "    spikepos=canvas.coords(4)\n",
    "    orbpos=canvas.coords(5)\n",
    "    if jumping==True:\n",
    "        canvas.move(3,0,jumpcount)\n",
    "        jumpcount+=1.5\n",
    "        if window==True:\n",
    "            jumpcount=0\n",
    "        if jumpcount==16.5:\n",
    "            jumping=False\n",
    "            jumpcount=-15\n",
    "        canvas.move(4,-10,0)\n",
    "        canvas.move(5,-10,0)\n",
    "    if squarepos[2]>=spikepos[0] and squarepos[1]>=spikepos[3] and squarepos[0]<=spikepos[2]:\n",
    "        die()\n",
    "    if squarepos[0]>=spikepos[2] and squarepos[1]>=spikepos[3] and spikepos[0]>0:\n",
    "        die()\n",
    "    if squarepos[2]>=orbpos[0] and squarepos[0]<=orbpos[2] and squarepos[1]<=orbpos[3]:\n",
    "        window=True\n",
    "    else:\n",
    "        window=False                                    \n",
    "    if spikepos[2]<=0:\n",
    "        canvas.move(4,850,0)\n",
    "    if orbpos[2]<=0:\n",
    "        canvas.move(5,850,0) \n",
    "    if window==True:\n",
    "        print('Window is open')                                       \n",
    "    tk.title(attempt)\n",
    "    time.sleep(0.03)\n",
    "    tk.update()"
   ]
  },
  {
   "cell_type": "code",
   "execution_count": null,
   "metadata": {},
   "outputs": [],
   "source": [
    "\n"
   ]
  },
  {
   "cell_type": "code",
   "execution_count": null,
   "metadata": {},
   "outputs": [],
   "source": []
  }
 ],
 "metadata": {
  "kernelspec": {
   "display_name": "Python 3",
   "language": "python",
   "name": "python3"
  }
 },
 "nbformat": 4,
 "nbformat_minor": 4
}
