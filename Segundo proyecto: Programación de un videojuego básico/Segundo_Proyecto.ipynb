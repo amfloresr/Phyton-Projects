{
 "cells": [
  {
   "cell_type": "code",
   "execution_count": null,
   "metadata": {},
   "outputs": [],
   "source": [
    "import time\n",
    "from tkinter import *\n",
    "tk=Tk()\n",
    "canvas = Canvas(tk, height=500, width=800, bd=0, highlightthickness=0)\n",
    "attempt=1\n",
    "tk.title(attempt)\n",
    "tk.resizable(0, 0)\n",
    "canvas.pack()\n",
    "jumpcount=-15\n",
    "window=False\n",
    "jumping=False\n",
    "def jump(event):\n",
    "    global jumping\n",
    "    jumping=True\n",
    "    if window==True:\n",
    "        jumpcount=15\n",
    "def die():\n",
    "    global attempt\n",
    "    canvas.move(3,0,999)\n",
    "    attempt+=1\n",
    "    time.sleep(0.75)\n",
    "    canvas.move(3,0,-999)\n",
    "    canvas.move(4,800,0)\n",
    "    canvas.move(5,800,0)\n",
    "canvas.create_rectangle(-1,400,800,500,fill='blue')\n",
    "canvas.create_rectangle(-1,-1,800,400,fill='light blue')\n",
    "canvas.create_rectangle(50,350,100,400,fill='green')\n",
    "canvas.create_polygon(400,400,425,350,450,400,fill='red')\n",
    "canvas.create_oval(500,250,550,300,fill='yellow')\n",
    "canvas.bind_all('<space>',jump)\n",
    "tk.update()\n",
    "run=True\n",
    "while run:\n",
    "    squarepos=canvas.coords(3)\n",
    "    spikepos=canvas.coords(4)\n",
    "    orbpos=canvas.coords(5)\n",
    "    if jumping==True:\n",
    "        canvas.move(3,0,jumpcount)\n",
    "        jumpcount+=1.5\n",
    "        if window==True:\n",
    "            jumpcount=-15\n",
    "        if jumpcount==16.5:\n",
    "            jumping=False\n",
    "            jumpcount=-15\n",
    "        canvas.move(4,-10,0)\n",
    "        canvas.move(5,-10,0)\n",
    "    if squarepos[2]>=spikepos[0] and squarepos[1]>=spikepos[3] and squarepos[0]<=spikepos[2]:\n",
    "        die()\n",
    "    if squarepos[0]>=spikepos[2] and squarepos[1]>=spikepos[3] and spikepos[0]>0:\n",
    "        die()\n",
    "    if squarepos[2]>=orbpos[0] and squarepos[0]<=orbpos[2] and squarepos[1]<=orbpos[3]:\n",
    "        window=True\n",
    "    else:\n",
    "        window=False                                    \n",
    "    if spikepos[2]<=0:\n",
    "        canvas.move(4,850,0)\n",
    "    if orbpos[2]<=0:\n",
    "        canvas.move(5,850,0) \n",
    "    if window==True:\n",
    "        print('Window is open')                                       \n",
    "    tk.title(attempt)\n",
    "    time.sleep(0.03)\n",
    "    tk.update()"
   ]
  },
  {
   "cell_type": "code",
   "execution_count": null,
   "metadata": {},
   "outputs": [],
   "source": [
    "\n"
   ]
  }
 ],
 "metadata": {
  "kernelspec": {
   "display_name": "Python 3",
   "language": "python",
   "name": "python3"
  },
  "language_info": {
   "codemirror_mode": {
    "name": "ipython",
    "version": 3
   },
   "file_extension": ".py",
   "mimetype": "text/x-python",
   "name": "python",
   "nbconvert_exporter": "python",
   "pygments_lexer": "ipython3",
   "version": "3.8.3"
  }
 },
 "nbformat": 4,
 "nbformat_minor": 4
}
