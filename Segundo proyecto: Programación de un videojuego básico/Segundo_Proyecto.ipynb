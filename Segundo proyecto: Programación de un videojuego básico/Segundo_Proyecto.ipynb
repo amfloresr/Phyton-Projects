{
 "cells": [
  {
   "cell_type": "code",
   "execution_count": 151,
   "metadata": {},
   "outputs": [
    {
     "name": "stdout",
     "output_type": "stream",
     "text": [
      "**********Bienvenidos al juego de Alejandra**********\n",
      "1. ¿Cómo te llamas, jugador? ale\n",
      "Encantado de conocerte, ale\n",
      "2. Ha aparecido un Soldado\n",
      "-Tu vida 100\n",
      "-Tu energia 100\n",
      "-Vida del enemigo 35\n",
      "-Ataque del enemigo 6\n",
      "3. Ahora dime, ¿Qué deseas hacer? a-Atacar (15)/ c-Curar(coste=30 , cantidad= 25): a\n",
      "Has decidido atacar\n",
      "El Soldado te ataca por 6\n",
      "-Tu vida 94\n",
      "-Tu energia 100\n",
      "-Vida del enemigo 20\n",
      "-Ataque del enemigo 6\n",
      "3. Ahora dime, ¿Qué deseas hacer? a-Atacar (15)/ c-Curar(coste=30 , cantidad= 25): a\n",
      "Has decidido atacar\n",
      "El Soldado te ataca por 6\n",
      "-Tu vida 88\n",
      "-Tu energia 100\n",
      "-Vida del enemigo 5\n",
      "-Ataque del enemigo 6\n",
      "3. Ahora dime, ¿Qué deseas hacer? a-Atacar (15)/ c-Curar(coste=30 , cantidad= 25): a\n",
      "Has decidido atacar\n",
      "El Soldado te ataca por 6\n",
      "¡Bien hecho!, has vencido a tu oponente\n"
     ]
    }
   ],
   "source": [
    "#El siguiente juego consiste en que un personaje supere diversas salas llena de enemigos\n",
    "\n",
    "#Propiedades jugador\n",
    "nombre=\"\"\n",
    "vida=100\n",
    "ataque=15\n",
    "energia=100\n",
    "curacion=25\n",
    "costeCuracion=30\n",
    "\n",
    "class Enemigo:\n",
    "    def __init__(self,nombre,vida,ataque):\n",
    "        self.nombre=nombre\n",
    "        self.vida=vida\n",
    "        self.ataque=ataque\n",
    "    #Método para perder vida\n",
    "    def  quitarVida(self, cantidad):\n",
    "        self.vida-=cantidad\n",
    "soldado=Enemigo(\"Soldado\",35,6)\n",
    "\n",
    "\n",
    "\n",
    "#Empezamos el juego\n",
    "print(\"**********Bienvenidos al juego de Alejandra**********\")\n",
    "nombre=input(\"1. ¿Cómo te llamas, jugador? \")\n",
    "print(\"Encantado de conocerte, \" + nombre)\n",
    "\n",
    "#Presentamos al enemigo\n",
    "print(\"2. Ha aparecido un \" + soldado.nombre )\n",
    "\n",
    "while vida>0 and soldado.vida >0:\n",
    "    print(\"-Tu vida \" + str(vida))\n",
    "    print(\"-Tu energia \" + str(energia))\n",
    "    print(\"-Vida del enemigo \" + str(soldado.vida))\n",
    "    print(\"-Ataque del enemigo \" + str(soldado.ataque))\n",
    "    respuesta=\"\"\n",
    "    respuesta=input(\"3. Ahora dime, ¿Qué deseas hacer? a-Atacar (\"+ str(ataque)+\")/ c-Curar(coste=\"+str(costeCuracion)+\" , cantidad= \"+str(curacion)+\"): \")\n",
    "\n",
    "    if respuesta==\"a\":\n",
    "        print(\"Has decidido atacar\")\n",
    "        soldado.quitarVida(ataque)\n",
    "    elif respuesta == \"c\" and energia >= costeCuracion:\n",
    "        print(\"Has decidido curarte\")\n",
    "        energia-=costeCuracion\n",
    "        vida+=curacion\n",
    "\n",
    "    print(\"El \" + soldado.nombre + \" te ataca por \" + str (soldado.ataque))\n",
    "    vida-=soldado.ataque\n",
    "\n",
    "print(\"¡Bien hecho!, has vencido a tu oponente\")"
   ]
  },
  {
   "cell_type": "code",
   "execution_count": null,
   "metadata": {},
   "outputs": [],
   "source": []
  }
 ],
 "metadata": {
  "kernelspec": {
   "display_name": "Python 3",
   "language": "python",
   "name": "python3"
  },
  "language_info": {
   "codemirror_mode": {
    "name": "ipython",
    "version": 3
   },
   "file_extension": ".py",
   "mimetype": "text/x-python",
   "name": "python",
   "nbconvert_exporter": "python",
   "pygments_lexer": "ipython3",
   "version": "3.8.3"
  }
 },
 "nbformat": 4,
 "nbformat_minor": 4
}
