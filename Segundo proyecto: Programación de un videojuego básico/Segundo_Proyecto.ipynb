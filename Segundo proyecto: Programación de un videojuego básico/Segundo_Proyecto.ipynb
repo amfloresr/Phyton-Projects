{
 "cells": [
  {
   "cell_type": "code",
   "execution_count": 165,
   "metadata": {},
   "outputs": [
    {
     "name": "stdout",
     "output_type": "stream",
     "text": [
      "**********Bienvenidos al juego de Alejandra**********\n",
      "1. ¿Cómo te llamas, jugador? Ale\n",
      "Encantado de conocerte, Ale\n",
      "2. Ha aparecido un Soldado\n",
      "-Tu vida 100\n",
      "-Tu energia 100\n",
      "-Vida del enemigo 35\n",
      "-Ataque del enemigo 6\n",
      "3. Ahora dime, ¿Qué deseas hacer? a-Atacar (15)/ c-Curar(coste=30 , cantidad= 25): a\n",
      "Has decidido atacar\n",
      "El Soldado te ataca por 6\n",
      "-Tu vida 94\n",
      "-Tu energia 100\n",
      "-Vida del enemigo 20\n",
      "-Ataque del enemigo 6\n",
      "3. Ahora dime, ¿Qué deseas hacer? a-Atacar (15)/ c-Curar(coste=30 , cantidad= 25): a\n",
      "Has decidido atacar\n",
      "El Soldado te ataca por 6\n",
      "-Tu vida 88\n",
      "-Tu energia 100\n",
      "-Vida del enemigo 5\n",
      "-Ataque del enemigo 6\n",
      "3. Ahora dime, ¿Qué deseas hacer? a-Atacar (15)/ c-Curar(coste=30 , cantidad= 25): a\n",
      "Has decidido atacar\n",
      "¡Bien hecho!, has vencido a tu oponente\n",
      "2. Ha aparecido un Arquero\n",
      "-Tu vida 88\n",
      "-Tu energia 100\n",
      "-Vida del enemigo 28\n",
      "-Ataque del enemigo 8\n",
      "3. Ahora dime, ¿Qué deseas hacer? a-Atacar (15)/ c-Curar(coste=30 , cantidad= 25): a\n",
      "Has decidido atacar\n",
      "El Arquero te ataca por 8\n",
      "-Tu vida 80\n",
      "-Tu energia 100\n",
      "-Vida del enemigo 13\n",
      "-Ataque del enemigo 8\n",
      "3. Ahora dime, ¿Qué deseas hacer? a-Atacar (15)/ c-Curar(coste=30 , cantidad= 25): a\n",
      "Has decidido atacar\n",
      "¡Bien hecho!, has vencido a tu oponente\n"
     ]
    }
   ],
   "source": [
    "#El siguiente juego consiste en que un personaje supere diversas salas llena de enemigos\n",
    "\n",
    "class Enemigo:\n",
    "    def __init__(self,nombre,vida,ataque):\n",
    "        self.nombre=nombre\n",
    "        self.vida=vida\n",
    "        self.ataque=ataque\n",
    "        self.vivo=True\n",
    "    \n",
    "    #Método para perder vida\n",
    "    def  quitarVida(self, cantidad):\n",
    "        if self.vivo==True:\n",
    "            self.vida-=cantidad\n",
    "            if self.vida<=0:\n",
    "                self.vivo=False\n",
    "soldado=Enemigo(\"Soldado\",35,6)\n",
    "arquero=Enemigo(\"Arquero\",28,8)\n",
    "\n",
    "class Personaje:\n",
    "    def __init__(self,nombre,vida,ataque,energia,curacion,costeCuracion):\n",
    "        self.nombre=nombre\n",
    "        self.vida=vida\n",
    "        self.ataque=ataque\n",
    "        self.energia=energia\n",
    "        self.curacion=curacion\n",
    "        self.costeCuracion=costeCuracion\n",
    "        self.vivo=True\n",
    "        \n",
    "    #Método para quitar vida\n",
    "    def  quitarVida(self, cantidad):\n",
    "        if self.vivo==True:\n",
    "            self.vida-=cantidad\n",
    "            if self.vida<=0:\n",
    "                self.vivo=False\n",
    "        \n",
    "    def curar(self):\n",
    "        self.vida+=self.curacion\n",
    "        self.energia-=self.costeCuracion\n",
    "jugador=Personaje(\"\",100,15,100,25,30)\n",
    "        \n",
    "\n",
    "\n",
    "\n",
    "#Empezamos el juego\n",
    "print(\"**********Bienvenidos al juego de Alejandra**********\")\n",
    "jugador.nombre=input(\"1. ¿Cómo te llamas, jugador? \")\n",
    "print(\"Encantado de conocerte, \" + jugador.nombre)\n",
    "\n",
    "\n",
    "def combate(j,e):#j=jugador, evitar confusión con jugador por sus propiedades; e=enemigo\n",
    "    #Presentamos al enemigo\n",
    "    print(\"2. Ha aparecido un \" + e.nombre )\n",
    "\n",
    "    #Comenzamos combate\n",
    "    while j.vivo==True and e.vivo==True:\n",
    "        #Información personajes\n",
    "        print(\"-Tu vida \" + str(j.vida))\n",
    "        print(\"-Tu energia \" + str(j.energia))\n",
    "        print(\"-Vida del enemigo \" + str(e.vida))\n",
    "        print(\"-Ataque del enemigo \" + str(e.ataque))\n",
    "        respuesta=\"\"\n",
    "        respuesta=input(\"3. Ahora dime, ¿Qué deseas hacer? a-Atacar (\"+ str(j.ataque)+\")/ c-Curar(coste=\"+str(j.costeCuracion)+\" , cantidad= \"+str(j.curacion)+\"): \")\n",
    "\n",
    "        if respuesta==\"a\":\n",
    "            print(\"Has decidido atacar\")\n",
    "            e.quitarVida(j.ataque)\n",
    "            if e.vivo==False:\n",
    "                break #Si no está vivo se termina el código\n",
    "        elif respuesta == \"c\" and j.energia >= j.costeCuracion:\n",
    "            print(\"Has decidido curarte\")\n",
    "            j.curar()\n",
    "\n",
    "        print(\"El \" + e.nombre + \" te ataca por \" + str (e.ataque))\n",
    "        j.quitarVida(e.ataque)\n",
    "\n",
    "    print(\"¡Bien hecho!, has vencido a tu oponente\")\n",
    "\n",
    "combate(jugador,soldado)\n",
    "combate(jugador,arquero)"
   ]
  },
  {
   "cell_type": "code",
   "execution_count": 166,
   "metadata": {},
   "outputs": [
    {
     "data": {
      "text/plain": [
       "80"
      ]
     },
     "execution_count": 166,
     "metadata": {},
     "output_type": "execute_result"
    }
   ],
   "source": [
    "jugador.vida"
   ]
  },
  {
   "cell_type": "code",
   "execution_count": null,
   "metadata": {},
   "outputs": [],
   "source": []
  }
 ],
 "metadata": {
  "kernelspec": {
   "display_name": "Python 3",
   "language": "python",
   "name": "python3"
  },
  "language_info": {
   "codemirror_mode": {
    "name": "ipython",
    "version": 3
   },
   "file_extension": ".py",
   "mimetype": "text/x-python",
   "name": "python",
   "nbconvert_exporter": "python",
   "pygments_lexer": "ipython3",
   "version": "3.8.3"
  }
 },
 "nbformat": 4,
 "nbformat_minor": 4
}
